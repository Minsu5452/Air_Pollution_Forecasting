{
 "cells": [
  {
   "cell_type": "code",
   "execution_count": 1,
   "id": "185ebddd",
   "metadata": {},
   "outputs": [
    {
     "name": "stderr",
     "output_type": "stream",
     "text": [
      "<frozen importlib._bootstrap>:219: RuntimeWarning: scipy._lib.messagestream.MessageStream size changed, may indicate binary incompatibility. Expected 56 from C header, got 64 from PyObject\n"
     ]
    },
    {
     "data": {
      "text/plain": [
       "0"
      ]
     },
     "execution_count": 1,
     "metadata": {},
     "output_type": "execute_result"
    }
   ],
   "source": [
    "import pandas as pd\n",
    "import gc\n",
    "import numpy as np\n",
    "import datetime\n",
    "import math\n",
    "from tqdm import tqdm\n",
    "import seaborn as sns\n",
    "import matplotlib.pyplot as plt\n",
    "from matplotlib import font_manager, rc\n",
    "\n",
    "from sklearn.preprocessing import LabelEncoder\n",
    "\n",
    "import platform\n",
    "# 차트에서 한글 출력을 위한 설정\n",
    "your_os = platform.system()\n",
    "if your_os == 'Linux':\n",
    "    rc('font', family='NanumGothic')\n",
    "elif your_os == 'Windows':\n",
    "    ttf = \"c:/Windows/Fonts/malgun.ttf\"\n",
    "    font_name = font_manager.FontProperties(fname=ttf).get_name()\n",
    "    \n",
    "    rc('font', family=font_name)\n",
    "elif your_os == 'Darwin':\n",
    "    rc('font', family='AppleGothic')\n",
    "rc('axes', unicode_minus=False)\n",
    "\n",
    "\n",
    "import torch\n",
    "from torch.autograd import Variable\n",
    "import torch.optim as optim\n",
    "import torch.nn as nn\n",
    "from torch.utils.data import TensorDataset # 텐서데이터셋\n",
    "from torch.utils.data import DataLoader # 데이터로더\n",
    "\n",
    "gc.collect()"
   ]
  },
  {
   "cell_type": "code",
   "execution_count": 8,
   "id": "afe5490f-ed08-4fc5-92b0-778961797a0b",
   "metadata": {},
   "outputs": [],
   "source": [
    "df_tr = pd.read_csv('train_04.csv')\n",
    "test = pd.read_csv('test_04.csv')\n",
    "test = test.loc[test['PM2.5'].isna() == False].reset_index().iloc[:,1:]\n",
    "\n",
    "sub = pd.read_csv('answer_sample.csv')"
   ]
  },
  {
   "cell_type": "code",
   "execution_count": 9,
   "id": "5631da8f",
   "metadata": {},
   "outputs": [
    {
     "data": {
      "text/plain": [
       "((595680, 20), (52224, 20))"
      ]
     },
     "execution_count": 9,
     "metadata": {},
     "output_type": "execute_result"
    }
   ],
   "source": [
    "df_tr.shape, test.shape"
   ]
  },
  {
   "cell_type": "markdown",
   "id": "6117632b-2551-4a45-992c-2623847afc2e",
   "metadata": {},
   "source": [
    "## DataLoader"
   ]
  },
  {
   "cell_type": "markdown",
   "id": "53d97dca",
   "metadata": {},
   "source": [
    "* Split train/val"
   ]
  },
  {
   "cell_type": "code",
   "execution_count": 10,
   "id": "c7ff4270",
   "metadata": {},
   "outputs": [],
   "source": [
    "train = df_tr[df_tr['연도'].isin([0, 1, 2])]\n",
    "val = df_tr[df_tr['연도'] == 3]"
   ]
  },
  {
   "cell_type": "code",
   "execution_count": 14,
   "id": "0ab26a9a",
   "metadata": {},
   "outputs": [
    {
     "data": {
      "text/plain": [
       "((446760, 19), (148920, 19), (52224, 19))"
      ]
     },
     "execution_count": 14,
     "metadata": {},
     "output_type": "execute_result"
    }
   ],
   "source": [
    "train = train.drop(columns = '일시').reset_index().iloc[:,1:]\n",
    "val = val.drop(columns = '일시').reset_index().iloc[:,1:]\n",
    "test = test.drop(columns = '일시')\n",
    "\n",
    "train = train.astype(float)\n",
    "val = val.astype(float)\n",
    "test = test.astype(float)\n",
    "\n",
    "train.shape, val.shape, test.shape"
   ]
  },
  {
   "cell_type": "markdown",
   "id": "e4d824b7",
   "metadata": {},
   "source": [
    "* Sliding Window"
   ]
  },
  {
   "cell_type": "code",
   "execution_count": null,
   "id": "e2f72290",
   "metadata": {},
   "outputs": [],
   "source": [
    "seq_length = 2\n",
    "output_dim = 3\n",
    "batch_size = 32"
   ]
  },
  {
   "cell_type": "code",
   "execution_count": null,
   "id": "f272266b",
   "metadata": {
    "jupyter": {
     "outputs_hidden": true
    },
    "tags": []
   },
   "outputs": [],
   "source": [
    "def build_train_dataset(time_series, seq_length, output_dim):\n",
    "    dataX = []\n",
    "    dataY = []\n",
    "\n",
    "    for r in tqdm(time_series.측정소.unique().tolist()):\n",
    "        a = time_series.loc[time_series.측정소 == r].values\n",
    "        for i in range(0, (a.shape[0]//((seq_length+output_dim)*24))*((seq_length+output_dim)*24), (seq_length+output_dim)*24):\n",
    "            _x = a[i:i+seq_length*24, [-1]]\n",
    "            _y = a[i+seq_length*24:(i+seq_length*24)+output_dim*24, [-1]]\n",
    "\n",
    "            dataX.append(_x)\n",
    "            dataY.append(_y)\n",
    "            \n",
    "    return np.array(dataX), np.array(dataY)\n",
    "\n",
    "\n",
    "def build_test_dataset(time_series):\n",
    "    dataX = []\n",
    "    for r in tqdm(time_series.측정소.unique().tolist()):\n",
    "        a = time_series.loc[time_series.측정소 == r].values\n",
    "        for i in range(0,a.shape[0]//48):\n",
    "            _x = a[i*48:(i*48)+48,[-1]]\n",
    "            dataX.append(_x)\n",
    "            \n",
    "    return np.array(dataX)"
   ]
  },
  {
   "cell_type": "code",
   "execution_count": null,
   "id": "04c6c6e9",
   "metadata": {
    "jupyter": {
     "outputs_hidden": true
    },
    "tags": []
   },
   "outputs": [],
   "source": [
    "trainX, trainY = build_train_dataset(train, seq_length, output_dim)\n",
    "valX, valY = build_train_dataset(val, seq_length, output_dim)\n",
    "testX = build_test_dataset(test)"
   ]
  },
  {
   "cell_type": "code",
   "execution_count": null,
   "id": "60adaefc",
   "metadata": {},
   "outputs": [],
   "source": [
    "trainX.shape, trainY.shape, valX.shape, valY.shape, testX.shape"
   ]
  },
  {
   "cell_type": "code",
   "execution_count": null,
   "id": "dadbdc3a",
   "metadata": {},
   "outputs": [],
   "source": [
    "device = torch.device(\"cuda\" if torch.cuda.is_available() else \"cpu\")\n",
    "device"
   ]
  },
  {
   "cell_type": "code",
   "execution_count": null,
   "id": "a72525d5",
   "metadata": {},
   "outputs": [],
   "source": [
    "## Train\n",
    "train_dataset = TensorDataset(torch.tensor(trainX, dtype=torch.float32).to(device), \n",
    "                              torch.tensor(trainY, dtype=torch.float32).to(device))\n",
    "\n",
    "val_dataset = TensorDataset(torch.tensor(valX, dtype=torch.float32).to(device), \n",
    "                              torch.tensor(valY, dtype=torch.float32).to(device))\n",
    "\n",
    "## Test\n",
    "testX_tensor = torch.FloatTensor(testX)"
   ]
  },
  {
   "cell_type": "code",
   "execution_count": null,
   "id": "50c187c2",
   "metadata": {
    "jupyter": {
     "outputs_hidden": true
    },
    "tags": []
   },
   "outputs": [],
   "source": [
    "train_dataloader = DataLoader(train_dataset,\n",
    "                        batch_size=batch_size,\n",
    "                        shuffle=False,  \n",
    "                        drop_last=True)\n",
    "\n",
    "val_dataloader = DataLoader(val_dataset,\n",
    "                        batch_size=batch_size,\n",
    "                        shuffle=False,  \n",
    "                        drop_last=True)"
   ]
  },
  {
   "cell_type": "code",
   "execution_count": null,
   "id": "c9b9930f",
   "metadata": {},
   "outputs": [],
   "source": [
    "class TFModel(nn.Module):\n",
    "    def __init__(self,iw, ow, d_model, nhead, nlayers, dropout=0.5):\n",
    "        super(TFModel, self).__init__()\n",
    "        self.encoder_layer = nn.TransformerEncoderLayer(d_model=d_model, nhead=nhead, dropout=dropout)\n",
    "        self.transformer_encoder = nn.TransformerEncoder(self.encoder_layer, num_layers=nlayers) \n",
    "        self.pos_encoder = PositionalEncoding(d_model, dropout)\n",
    "\n",
    "        self.encoder = nn.Sequential(\n",
    "            nn.Linear(1, d_model//2),\n",
    "            nn.ReLU(),\n",
    "            nn.Linear(d_model//2, d_model)\n",
    "        )\n",
    "        \n",
    "        self.linear =  nn.Sequential(\n",
    "            nn.Linear(d_model, d_model//2),\n",
    "            nn.ReLU(),\n",
    "            nn.Linear(d_model//2, 1)\n",
    "        )\n",
    "\n",
    "        self.linear2 = nn.Sequential(\n",
    "            nn.Linear(iw, (iw+ow)//2),\n",
    "            nn.ReLU(),\n",
    "            nn.Linear((iw+ow)//2, ow)\n",
    "        ) \n",
    "\n",
    "    def generate_square_subsequent_mask(self, sz):\n",
    "        mask = (torch.triu(torch.ones(sz, sz)) == 1).transpose(0, 1)\n",
    "        mask = mask.float().masked_fill(mask == 0, float('-inf')).masked_fill(mask == 1, float(0.0))\n",
    "        return mask\n",
    "\n",
    "    def forward(self, src, srcmask):\n",
    "        src = self.encoder(src) # (4,48,512)\n",
    "        src = self.pos_encoder(src) # (4,48,512)\n",
    "        output = self.transformer_encoder(src.transpose(0,1), srcmask).transpose(0,1) # (4,48,512)\n",
    "        output = self.linear(output)[:,:,0] # (4,48)\n",
    "        output = self.linear2(output) # (4,72)\n",
    "\n",
    "        return output\n",
    "\n",
    "class PositionalEncoding(nn.Module):\n",
    "    def __init__(self, d_model, dropout=0.1, max_len=5000):\n",
    "        super(PositionalEncoding, self).__init__()\n",
    "        self.dropout = nn.Dropout(p=dropout)\n",
    "\n",
    "        pe = torch.zeros(max_len, d_model)\n",
    "        position = torch.arange(0, max_len, dtype=torch.float).unsqueeze(1)\n",
    "        div_term = torch.exp(torch.arange(0, d_model, 2).float() * (-math.log(10000.0) / d_model))\n",
    "        pe[:, 0::2] = torch.sin(position * div_term)\n",
    "        pe[:, 1::2] = torch.cos(position * div_term)\n",
    "        pe = pe.unsqueeze(0).transpose(0, 1)\n",
    "        self.register_buffer('pe', pe)\n",
    "\n",
    "    def forward(self, x):\n",
    "        x = x + self.pe[:x.size(0), :]\n",
    "        return self.dropout(x)\n",
    "\n",
    "def gen_attention_mask(x):\n",
    "    mask = torch.eq(x, 0)\n",
    "    return mask"
   ]
  },
  {
   "cell_type": "code",
   "execution_count": null,
   "id": "0f1cc60e",
   "metadata": {},
   "outputs": [],
   "source": [
    "device = torch.device(\"cuda\")\n",
    "model = TFModel(24*2, 24*3, 512, 8, 4, 0.1).to(device)\n",
    "\n",
    "criterion = nn.L1Loss()\n",
    "optimizer = torch.optim.Adam(model.parameters(), lr=1e-4)\n",
    "\n",
    "epochs = 100"
   ]
  },
  {
   "cell_type": "code",
   "execution_count": null,
   "id": "f8e9ab31",
   "metadata": {},
   "outputs": [],
   "source": [
    "gc.collect()\n",
    "torch.cuda.empty_cache()"
   ]
  },
  {
   "cell_type": "code",
   "execution_count": null,
   "id": "286fd807",
   "metadata": {},
   "outputs": [],
   "source": [
    "result.shape"
   ]
  },
  {
   "cell_type": "code",
   "execution_count": null,
   "id": "23ef3c5f",
   "metadata": {
    "scrolled": true
   },
   "outputs": [],
   "source": [
    "model.train()\n",
    "train_hist = np.zeros(epochs)\n",
    "for epoch in range(epochs):\n",
    "    avg_cost = 0\n",
    "    for (inputs, outputs) in train_dataloader:\n",
    "        optimizer.zero_grad()\n",
    "        src_mask = model.generate_square_subsequent_mask(inputs.shape[1]).to(device)\n",
    "        result = model(inputs.float().to(device),  src_mask)\n",
    "        loss = criterion(result, outputs[:,:,0].float().to(device))\n",
    "        loss.backward()\n",
    "        optimizer.step()\n",
    "        avg_cost += loss/batch_size\n",
    "    \n",
    "    train_hist[epoch] = avg_cost\n",
    "    if epoch % 5 == 0:\n",
    "        print('Epoch:', '%04d' % (epoch), 'train loss :', '{:.4f}'.format(avg_cost))"
   ]
  },
  {
   "cell_type": "code",
   "execution_count": null,
   "id": "bfee3cd2",
   "metadata": {},
   "outputs": [],
   "source": [
    "# epoch별 손실값\n",
    "fig = plt.figure(figsize=(10, 4))\n",
    "plt.plot(train_hist, label=\"Training loss\")\n",
    "plt.title('loss')\n",
    "plt.legend()\n",
    "plt.show()"
   ]
  },
  {
   "cell_type": "code",
   "execution_count": null,
   "id": "f3bf581f",
   "metadata": {},
   "outputs": [],
   "source": [
    "# 모델 저장\n",
    "now = datetime.datetime.now().strftime('model_%m-%d_%H:%M')\n",
    "\n",
    "\n",
    "PATH = './' + now + '.pth'\n",
    "torch.save(model.state_dict(), PATH)"
   ]
  },
  {
   "cell_type": "markdown",
   "id": "5ef004c8",
   "metadata": {},
   "source": [
    "### Validation"
   ]
  },
  {
   "cell_type": "code",
   "execution_count": null,
   "id": "26aae812",
   "metadata": {},
   "outputs": [],
   "source": [
    "def evaluate_model(model, val_loader, criterion):\n",
    "    model.eval()\n",
    "    val_loss = 0\n",
    "    lst = []\n",
    "    with torch.no_grad():\n",
    "        for (inputs, outputs) in val_loader:\n",
    "            src_mask = model.generate_square_subsequent_mask(inputs.shape[1]).to(device)\n",
    "            y_pred = model(inputs.float().to(device),  src_mask)\n",
    "            loss = criterion(y_pred, outputs[:,:,0].float().to(device))\n",
    "            \n",
    "            val_loss += loss.item() * inputs.shape[0]\n",
    "            lst.append(y_pred)\n",
    "    val_loss /= len(val_loader.dataset)\n",
    "    \n",
    "    \n",
    "    model.train()\n",
    "    \n",
    "    print('Validation MAE: {:.4f}'.format(val_loss))\n",
    "\n",
    "# 모델의 성능 평가\n",
    "criterion = torch.nn.L1Loss().to(device)\n",
    "evaluate_model(model, val_dataloader, criterion)"
   ]
  },
  {
   "cell_type": "markdown",
   "id": "a70f5a95",
   "metadata": {},
   "source": [
    "### Prediction"
   ]
  },
  {
   "cell_type": "code",
   "execution_count": null,
   "id": "dd9dfe96",
   "metadata": {
    "scrolled": true
   },
   "outputs": [],
   "source": [
    "# Load pre-trained model\n",
    "model = TFModel(24*2, 24*3, 512, 8, 4, 0.1).to(device)\n",
    "model.load_state_dict(torch.load(PATH), strict=False)\n",
    "\n",
    "model.eval()"
   ]
  },
  {
   "cell_type": "code",
   "execution_count": null,
   "id": "c69ed463",
   "metadata": {},
   "outputs": [],
   "source": [
    "# Prediction\n",
    "with torch.no_grad(): \n",
    "    pred = []\n",
    "    for pr in range(len(testX_tensor)):\n",
    "        src_mask = model.generate_square_subsequent_mask(testX_tensor.shape[1]).to(device)\n",
    "        result = model(torch.unsqueeze(testX_tensor[pr].float(),0).to(device),  src_mask)\n",
    "        result.detach().cpu().numpy()\n",
    "        pred.append(result)"
   ]
  },
  {
   "cell_type": "code",
   "execution_count": null,
   "id": "35278889",
   "metadata": {},
   "outputs": [],
   "source": [
    "a = [np.array(pred[i].cpu()).reshape(72) for i in range(len(pred))]\n",
    "b = [a[i].tolist() for i in range(len(a))]"
   ]
  },
  {
   "cell_type": "markdown",
   "id": "213fa374",
   "metadata": {},
   "source": [
    "### Submission"
   ]
  },
  {
   "cell_type": "code",
   "execution_count": null,
   "id": "e90af20d",
   "metadata": {},
   "outputs": [],
   "source": [
    "sub['PM2.5'] = sum(b, [])"
   ]
  },
  {
   "cell_type": "code",
   "execution_count": null,
   "id": "1e2523a9",
   "metadata": {},
   "outputs": [],
   "source": [
    "sub.to_csv('baseline_{}.csv'.format(now[6:]), index = False)"
   ]
  },
  {
   "cell_type": "code",
   "execution_count": null,
   "id": "4a50969f",
   "metadata": {},
   "outputs": [],
   "source": [
    "pd.read_csv('baseline_{}.csv'.format(now[6:])).isna().sum()"
   ]
  }
 ],
 "metadata": {
  "kernelspec": {
   "display_name": "Python 3 (ipykernel)",
   "language": "python",
   "name": "python3"
  },
  "language_info": {
   "codemirror_mode": {
    "name": "ipython",
    "version": 3
   },
   "file_extension": ".py",
   "mimetype": "text/x-python",
   "name": "python",
   "nbconvert_exporter": "python",
   "pygments_lexer": "ipython3",
   "version": "3.8.15"
  }
 },
 "nbformat": 4,
 "nbformat_minor": 5
}
